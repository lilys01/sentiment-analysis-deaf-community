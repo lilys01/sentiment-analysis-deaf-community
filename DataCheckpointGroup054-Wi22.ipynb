{
 "cells": [
  {
   "cell_type": "markdown",
   "metadata": {},
   "source": [
    "# COGS 108 - Data Checkpoint"
   ]
  },
  {
   "cell_type": "markdown",
   "metadata": {},
   "source": [
    "# Names\n",
    "\n",
    "- Ant Man\n",
    "- Hulk\n",
    "- Iron Man\n",
    "- Thor\n",
    "- Wasp"
   ]
  },
  {
   "cell_type": "markdown",
   "metadata": {},
   "source": [
    "<a id='research_question'></a>\n",
    "# Research Question"
   ]
  },
  {
   "cell_type": "markdown",
   "metadata": {},
   "source": [
    "*Fill in your research question here*"
   ]
  },
  {
   "cell_type": "markdown",
   "metadata": {},
   "source": [
    "# Dataset(s)"
   ]
  },
  {
   "cell_type": "markdown",
   "metadata": {},
   "source": [
    "We got our datasets by scraping public APIs for news sources. We queried the APIs for articles related to deafness. The APIs would return a list of URLs for articles related to our search. We then would scrape the article text and other relevant information from the URL's website.\n",
    "\n",
    "__AP News Articles, ABC News Articles__\n",
    "- datasets/ap_data.json and datasets/abc_data.json\n",
    "- These datasets were made by getting article URLs from the Google Custom Search API and then scraping the articles from their news sites\n",
    "    - https://developers.google.com/custom-search/v1/introduction\n",
    "- 380 AP articles, 160 ABC articles\n",
    "\n",
    "__New York Times Articles__\n",
    "- datasets/nyt_data.json\n",
    "- This dataset was made by getting article URLs from the NYT API and then scraping the articles from the NYT site\n",
    "    - https://developer.nytimes.com/\n",
    "- 750 articles\n",
    "\n",
    "__The Guardian Articles__\n",
    "- datasets/guard_data.json\n",
    "- This dataset was made by getting article URLs from The Guardian API and then scraping the articles from The Guardian website\n",
    "    - https://open-platform.theguardian.com/\n",
    "- 7000 articles\n",
    "\n",
    "__USA Today Articles__\n",
    "- datasets/usa_data.json\n",
    "- This dataset is partially complete, and may or may not end up used in the final project. It was made using the Google Custom Search API\n",
    "    - https://developers.google.com/custom-search/v1/introduction\n",
    "- Over 1000 total articles\n",
    "\n",
    "\n",
    "These datasets should be easy to combine due to us collecting the same information for each article. The information we collected was the news source, the URL, the headline, the publishing date, and the article text."
   ]
  },
  {
   "cell_type": "markdown",
   "metadata": {},
   "source": [
    "# Setup"
   ]
  },
  {
   "cell_type": "code",
   "execution_count": 1,
   "metadata": {},
   "outputs": [],
   "source": [
    "## YOUR CODE HERE"
   ]
  },
  {
   "cell_type": "markdown",
   "metadata": {},
   "source": [
    "# Data Cleaning"
   ]
  },
  {
   "cell_type": "markdown",
   "metadata": {},
   "source": [
    "Describe your data cleaning steps here."
   ]
  },
  {
   "cell_type": "code",
   "execution_count": 2,
   "metadata": {},
   "outputs": [],
   "source": [
    "## YOUR CODE HERE\n",
    "## FEEL FREE TO ADD MULTIPLE CELLS PER SECTION"
   ]
  }
 ],
 "metadata": {
  "kernelspec": {
   "display_name": "Python 3",
   "language": "python",
   "name": "python3"
  },
  "language_info": {
   "codemirror_mode": {
    "name": "ipython",
    "version": 3
   },
   "file_extension": ".py",
   "mimetype": "text/x-python",
   "name": "python",
   "nbconvert_exporter": "python",
   "pygments_lexer": "ipython3",
   "version": "3.8.10"
  }
 },
 "nbformat": 4,
 "nbformat_minor": 2
}
