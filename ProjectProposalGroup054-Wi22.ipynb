{
 "cells": [
  {
   "cell_type": "markdown",
   "metadata": {},
   "source": [
    "# COGS 108 - Final Project Proposal"
   ]
  },
  {
   "cell_type": "markdown",
   "metadata": {},
   "source": [
    "# Names\n",
    "\n",
    "- James Larsen\n",
    "- Alejandro Servin\n",
    "- Lily Steiner\n",
    "- Mayra Trejo"
   ]
  },
  {
   "cell_type": "markdown",
   "metadata": {},
   "source": [
    "# Research Question"
   ]
  },
  {
   "cell_type": "markdown",
   "metadata": {},
   "source": [
    "How has the sentiment of the language surrounding Deafness used by popular online news sources changed since the 80s?"
   ]
  },
  {
   "cell_type": "markdown",
   "metadata": {},
   "source": [
    "## Background and Prior Work"
   ]
  },
  {
   "cell_type": "markdown",
   "metadata": {},
   "source": [
    "From the lightbulb and internet [1] to football huddles [2] and morse code [3], Deaf people have been an influential part of American society since its origins. Public sentiment towards the deaf community regarding their rights to access and language has been controversial and polarizing. Before we get into the importance of positive language and representation we must first define some terminology regarding the Deaf community and American Sign Language. You may have noticed that we have been capitalizing the “D” in deaf. As with many cultures, the Deaf community takes pride in their abilities and perseverance in the face of ableism. To establish their status as a cultural group, the deaf and hard-of-hearing(hoh) use “D” deaf when discussing their community and its members. “d” deaf is used to denote the medical/scientific analysis regarding deafness, as well as, a general disconnect from the Deaf community [4]. Within the Deaf community there is the term “Deaf Gain'' which “accentuates the benefits of being deaf” [5] instead of focusing on the loss of hearing. One of these gains is the ability to communicate in a loud space through the use of signed language. American Sign Language(ASL) is a form of physically expressed communication used by the Deaf community since the early 1800’s. ASL became officially recognized as a language by the academic community when William Stokoe published Dictionary of American Sign Language on Linguistic Principles in 1965 [6]. The use of ASL has long been regarded by the Deaf community as essential for growth and communication [7], though this same sentiment has not always been the viewpoint of American society. The term “audism” refers to the act of discrimination and separation on the basis of one's ability to hear[8]. Examples of audism include, but are not limited to: refusing to use written communication, prohibiting the use of ASL, refusal of service on the basis of deafness, refusal to hire an ASL interpreter, and not learning to sign for a deaf offspring. \n",
    "    \n",
    "Throughout American history, the deaf and hard of hearing have been labeled many things, such as: deaf and dumb, deaf mute, and hearing impaired. All of these terms carry negative connotations in regards to a person's intellect, speaking ability, and the implication that they could “be better” if they could hear typically. To counteract these implications, the Deaf community now prefers the terms deaf and hard-of-hearing, which refer to their inability to conduct and process sound. It must also be mentioned that the term “mute” is now considered a choice in the Deaf community and not a reflection of one's ability to vocalize. Through their sense of comradery and pride, the Deaf community have been able to experience and accomplish many great strides in terms of disability rights and representation. For example, the passage of the Americans with Disabilities Act (ADA) has been said to have been largely influenced by the media exposure given to the Deaf students of Gallaudet University in 1988 during their Deaf President Now protest [9]. Due to the trail blazed by actress Marlee Matlin, Deaf performers like Nyle Dimarco, Millicent Simmonds from _A Quiet Place_(2018), and Lauren Ridolff in _The Eternals_(2021) have all been hired to portray Deaf characters in a more positive and representative light. Until recently deaf characters were often portrayed by hearing performers as exemplified by Hawkeye in _The Avengers_(2012) and the suspense/thriller _Hush_(2016). \n",
    "\n",
    "Whether they are viewed as disabled or an inspiration, there’s no denying the impact the Deaf have on American culture. Having proper representation and positive sentiment portrayed to the general public has proven to be beneficial to the accessibility and awareness of the Deaf community. In order to continue along this trajectory of inclusion we decided it would be beneficial to analyze the media rhetoric regarding the Deaf community to gain a better understanding of how representation has changed over time. \n",
    "\n",
    "\n",
    "References (include links):\n",
    "- [1] McGlinn, I. (2020, August 12). 14 Deaf and Hard-of-Hearing People Who Changed the World. Ai. Retrieved January 28, 2022, from https://www.ai-media.tv/ai-media-blog/famous-deaf-people-15-deaf-and-hard-of-hearing-people-who-changed-the-world/ \n",
    "- [2] _Huddle_. Gallaudet University. (2021, February 15). Retrieved January 28, 2022, from https://www.gallaudet.edu/about/huddle/#:~:text=In%201894%2C%20the%20Gallaudet%20football,now%20known%20as%20a%20huddle \n",
    "- [3] RIT Libraries. (2021, October 26). Hist 330 Deafness and Technology: Overview. InfoGuides. Retrieved January 28, 2022, from https://infoguides.rit.edu/deaftech#:~:text=Deaf%20inventors%20developed%20the%20TTY,available%20for%20the%20Deaf%20user.\n",
    "- [4] Berke, J. (2020, January 8). Self-identification in the Deaf Community. Verywell Health. Retrieved January 28, 2022, from https://www.verywellhealth.com/deaf-culture-big-d-small-d-1046233#:~:text=Definitions,members%20of%20the%20deaf%20community.&text=In%20contrast%2C%20%22big%20D%22,quite%20proud%20to%20be%20Deaf \n",
    "- [5] Holcomb, T. K. (2013). Introduction to American Deaf Culture. Oxford University Press. Pg. 308.\n",
    "- [6] Dawn Sign Press. (2016, August 17). History of American Sign Language. https://www.dawnsign.com. Retrieved January 28, 2022, from https://www.dawnsign.com/news-detail/history-of-american-sign-language\n",
    "- [7] Scheetz, N.A. (2001). Orientation to Deafness.  Allyn & Bacon. Second ed. Pg.23. \n",
    "- [8] Merriam-Webster. (n.d.). Audism. In Merriam-Webster.com dictionary. Retrieved January 28, 2022, from https://www.merriam-webster.com/dictionary/audism \n",
    "- [9] _Deaf President Now_ - Impact. Gallaudet University. (2021, January 12). Retrieved January 28, 2022, from https://www.gallaudet.edu/about/history-and-traditions/deaf-president-now/impact/"
   ]
  },
  {
   "cell_type": "markdown",
   "metadata": {},
   "source": [
    "# Hypothesis\n"
   ]
  },
  {
   "cell_type": "markdown",
   "metadata": {},
   "source": [
    "We think that the language surrounding Deafness will have grown more positive since the 80s. This is because cultural awareness of Deaf culture has increased and there has been more representation of Deaf hands in media, sports, and education."
   ]
  },
  {
   "cell_type": "markdown",
   "metadata": {},
   "source": [
    "# Data"
   ]
  },
  {
   "cell_type": "markdown",
   "metadata": {},
   "source": [
    "We are hoping to scrape data from online news sources such as the NY Times, Buzzfeed, and the BBC using their publicly available APIs. We would be searching for articles related to Deafness. We would hope to scrape several pieces of information from these sources including article name, article text, news source, date, and potentially any categorical/keyword data associated with the article. We would then hopefully store this data in a semi-structured format such as CSV or JSON.\n",
    "\n",
    "Ideally we would like to find articles dating back decades, although we are aware that we are limited in this respect by how many articles are actually stored online by their respective news sources. In terms of the overall number of articles collected, we would ideally hope for more than five thousand although if we can get at least a thousand we would have a solid foundation to work from.\n",
    "\n",
    "We are hoping to enrich this dataset through sentiment analysis. We may calculate sentiment scores ad hoc in the process of studying the data, but we are also considering calculating sentiment scores and adding them to the underlying dataset to enrich it before we begin our research. These sentiment scores may include things such as polarity and subjectivity. Ideally they could go so far as text classification, to differentiate between articles relating to deafness as a medical condition and Deafness as a culture."
   ]
  },
  {
   "cell_type": "markdown",
   "metadata": {},
   "source": [
    "# Ethics & Privacy"
   ]
  },
  {
   "cell_type": "markdown",
   "metadata": {},
   "source": [
    "Our project will use publicly available news articles from a variety of news sources.\n",
    "\n",
    "With our project, we are aware of many biases that may impact our results. First of all, because our project is surrounding Deafness, and we are all hearing, we have an innate hearing bias that may influence our perspective on different aspects of this project and potentially our interpretations of the results. We also acknowledge that, due to the nature of this project, as supporters of the Deaf community we subsequently have a pro-Deafness bias that could impact a sentiment analysis because of the data we collect or how we interpret that data. Additionally, if we conduct the sentiment analysis with the help of a library, there is a possibility that this library was made by an able-bodied individual, which may influence the results of the sentiment analysis when looking at the sentiment of the language surrounding Deafness. \n",
    "\n",
    "When collecting the news article data, we also are aware that the choices of news databases may influence the results of the sentiment analysis, since some news sources may be more likely to have a positive or negative sentiment on this subject. We will attempt to counter this by selecting a variety of varying news sources to have a more comprehensive dataset. We also are aware that we may have to conduct data normalization, since some news sources may have more related articles than others and therefore may skew the sentiment results. \n",
    " \n",
    "Acknowledging these biases allows us to look at the results of our analysis through a more critical lens. With them in mind, we will better be able to conduct this analysis since we can actively reflect on each step in case our biases are influencing our work. "
   ]
  },
  {
   "cell_type": "markdown",
   "metadata": {},
   "source": [
    "# Team Expectations "
   ]
  },
  {
   "cell_type": "markdown",
   "metadata": {},
   "source": [
    "- Communicate via text group chat, github repo, and google folder\n",
    "- Provide brief overview of individually completed work at group meetings \n",
    "- Write well-commented code and documentation\n",
    "- When conflict arise, team members should individually reach out to each other and resolve such conflicts\n",
    "- Arrange additional meetings as needed\n",
    "- Have every team member's approval before submitting any work"
   ]
  },
  {
   "cell_type": "markdown",
   "metadata": {},
   "source": [
    "# Project Timeline Proposal"
   ]
  },
  {
   "cell_type": "markdown",
   "metadata": {},
   "source": [
    "| WK | Meeting Date | Meeting Time | Completed Before Meeting | Discuss at Meeting|\n",
    "|:--:|:------------:|:------------:|:-------------------------|:------------------|\n",
    "| 5 | __Tuesday__ (2/1) <br><br>_Optional: Wed (2/2)_ | 6:00pm | <ul><li>Picked out news sources.</li> <li>Experiment with the APIs.</li> <li>Divide up work for Checkpoint #1.</li></ul> | <ul><li>Review sentiment analysis.</li> <li>Go over Checkpoint #1.</li> <li>Set goals for next meeting.</li></ul> |\n",
    "| 6 | __Tuesday__ (2/8) <br><br>_Optional: Wed (2/9)_ | 6:00pm | <ul><li>Use News API to construct our dataset.</li></ul> | <ul><li>Process on Checkpoint #1.</li> <li>Set goals for next meeting.</li> <li>__Checkpoint #1: Data DUE (2/11)__.</li></ul> |\n",
    "| 7 | __Tuesday__ (2/15) <br><br>_Optional: Wed (2/15)_ | 6:00pm | <ul><li>Use sentiment analysis to calculate sentiment scores for the articles in our dataset.</li> <li>Complete ‘Background and Prior Work’ for final paper.</li> <li>Start graphing our data.</li></ul> | <ul><li>Finalize our variables.</li> <li>Discuss potential relationships / outliers.</li> <li>Set goals for next meeting.</li></ul> |\n",
    "| 8 | __Tuesday__ (2/22) <br><br>_Optional: Wed (2/22)_ | 6:00pm | <ul><li>Create graphs.</li> <li>Write the analysis of the dataset.</li> <li>Divide up work for Checkpoint #2.</li></ul> | <ul><li>Discuss and analyze the dataset as a group.</li> <li>Discuss potential graphs for our dataset.</li> <li>Set goals for next meeting.</li> <li>__Checkpoint #2: EDA DUE (2/25)__.</li></ul> |\n",
    "| 9 | __Tuesday__ (3/1) <br><br>_Optional: Wed (3/2)_ | 6:00pm | <ul><li>Edit graphs and analysis.</li> <li>Start writing the final write-up.</li> <li>Divide up work for final write-up, video, etc.</li></ul> | <ul><li>Review our progress on graphs and write-up.</li> <li>Set goals for next meeting.</li></ul> |\n",
    "| 10 | __Tuesday__ (3/8) <br><br>_Optional: Wed (3/9)_ | 6:00pm | <ul><li>Finish write-up.</li> <li>Finalize video.</li></ul> | <ul><li>Discuss the final steps in completing final project.</li> <li>Set goals for the last week.</li> <li>__Final Project Video (3/14) + Team evaluation survey__.</li></ul> |\n",
    "| 11 | __ Monday__ (3/14) <br><br>_FINALS WEEK_ | <div style=\"text-align:center\">_TBD_</div> | <div style=\"text-align:center\">_TBD_</div> | <div style=\"text-align:center\">_TBD_</div> |"
   ]
  }
 ],
 "metadata": {
  "kernelspec": {
   "display_name": "Python 3",
   "language": "python",
   "name": "python3"
  },
  "language_info": {
   "codemirror_mode": {
    "name": "ipython",
    "version": 3
   },
   "file_extension": ".py",
   "mimetype": "text/x-python",
   "name": "python",
   "nbconvert_exporter": "python",
   "pygments_lexer": "ipython3",
   "version": "3.8.10"
  }
 },
 "nbformat": 4,
 "nbformat_minor": 2
}
